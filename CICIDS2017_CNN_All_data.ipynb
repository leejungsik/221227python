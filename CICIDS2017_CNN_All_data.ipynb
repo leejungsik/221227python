{
  "nbformat": 4,
  "nbformat_minor": 0,
  "metadata": {
    "colab": {
      "provenance": [],
      "gpuType": "V28",
      "authorship_tag": "ABX9TyN7stbyb6v6QNREKe+I36QA",
      "include_colab_link": true
    },
    "kernelspec": {
      "name": "python3",
      "display_name": "Python 3"
    },
    "language_info": {
      "name": "python"
    },
    "accelerator": "TPU"
  },
  "cells": [
    {
      "cell_type": "markdown",
      "metadata": {
        "id": "view-in-github",
        "colab_type": "text"
      },
      "source": [
        "<a href=\"https://colab.research.google.com/github/leejungsik/221227python/blob/main/CICIDS2017_CNN_All_data.ipynb\" target=\"_parent\"><img src=\"https://colab.research.google.com/assets/colab-badge.svg\" alt=\"Open In Colab\"/></a>"
      ]
    },
    {
      "cell_type": "code",
      "execution_count": null,
      "metadata": {
        "colab": {
          "base_uri": "https://localhost:8080/"
        },
        "id": "dk3G2cZsn3Zv",
        "outputId": "939b4a24-eb94-4576-974d-51bbda726698"
      },
      "outputs": [
        {
          "output_type": "stream",
          "name": "stdout",
          "text": [
            "Mounted at /content/drive\n"
          ]
        }
      ],
      "source": [
        "from google.colab import drive\n",
        "drive.mount(\"/content/drive\")"
      ]
    },
    {
      "cell_type": "code",
      "source": [
        "!wget -nc -O MachineLearningCVE.zip http://205.174.165.80/CICDataset/CIC-IDS-2017/Dataset/CIC-IDS-2017/CSVs/MachineLearningCSV.zip\n"
      ],
      "metadata": {
        "colab": {
          "base_uri": "https://localhost:8080/"
        },
        "id": "dSR9tOcWok3S",
        "outputId": "e3fb09b0-4a7e-4364-fecc-84d2ec648e95"
      },
      "execution_count": null,
      "outputs": [
        {
          "output_type": "stream",
          "name": "stdout",
          "text": [
            "--2024-08-05 23:27:48--  http://205.174.165.80/CICDataset/CIC-IDS-2017/Dataset/CIC-IDS-2017/CSVs/MachineLearningCSV.zip\n",
            "Connecting to 205.174.165.80:80... connected.\n",
            "HTTP request sent, awaiting response... 200 OK\n",
            "Length: 235102953 (224M) [application/zip]\n",
            "Saving to: ‘MachineLearningCVE.zip’\n",
            "\n",
            "MachineLearningCVE. 100%[===================>] 224.21M  1.88MB/s    in 2m 1s   \n",
            "\n",
            "2024-08-05 23:29:49 (1.85 MB/s) - ‘MachineLearningCVE.zip’ saved [235102953/235102953]\n",
            "\n"
          ]
        }
      ]
    },
    {
      "cell_type": "code",
      "source": [
        "!wget -nc http://205.174.165.80/CICDataset/CIC-IDS-2017/Dataset/CIC-IDS-2017/CSVs/MachineLearningCSV.md5"
      ],
      "metadata": {
        "colab": {
          "base_uri": "https://localhost:8080/"
        },
        "id": "4wp6fcljpc7c",
        "outputId": "bce04b7c-e965-46cb-d97d-6758ad153a4c"
      },
      "execution_count": null,
      "outputs": [
        {
          "output_type": "stream",
          "name": "stdout",
          "text": [
            "--2024-08-05 23:29:55--  http://205.174.165.80/CICDataset/CIC-IDS-2017/Dataset/CIC-IDS-2017/CSVs/MachineLearningCSV.md5\n",
            "Connecting to 205.174.165.80:80... connected.\n",
            "HTTP request sent, awaiting response... 200 OK\n",
            "Length: 57\n",
            "Saving to: ‘MachineLearningCSV.md5’\n",
            "\n",
            "\rMachineLearningCSV.   0%[                    ]       0  --.-KB/s               \rMachineLearningCSV. 100%[===================>]      57  --.-KB/s    in 0s      \n",
            "\n",
            "2024-08-05 23:29:55 (9.17 MB/s) - ‘MachineLearningCSV.md5’ saved [57/57]\n",
            "\n"
          ]
        }
      ]
    },
    {
      "cell_type": "code",
      "source": [
        "!md5sum -c MachineLearningCSV.md5"
      ],
      "metadata": {
        "colab": {
          "base_uri": "https://localhost:8080/"
        },
        "id": "5gOxxFAFqgyE",
        "outputId": "92ba6247-5e74-43a4-8a6a-96a086c85908"
      },
      "execution_count": null,
      "outputs": [
        {
          "output_type": "stream",
          "name": "stdout",
          "text": [
            "MachineLearningCVE.zip: OK\n"
          ]
        }
      ]
    },
    {
      "cell_type": "code",
      "source": [
        "!mkdir -p \"/content/drive/My Drive/CICIDS2017/\"\n",
        "\n",
        "!cp MachineLearningCVE.zip \"/content/drive/My Drive/CICIDS2017/\""
      ],
      "metadata": {
        "id": "MhTic4BjqnN-"
      },
      "execution_count": null,
      "outputs": []
    },
    {
      "cell_type": "code",
      "source": [
        "!unzip -n \"/content/drive/My Drive/CICIDS2017/MachineLearningCVE.zip\"\n"
      ],
      "metadata": {
        "colab": {
          "base_uri": "https://localhost:8080/"
        },
        "id": "BI0B79Qfq6mE",
        "outputId": "66b70cb3-0aea-4ee8-d987-27363bfe4c3f"
      },
      "execution_count": null,
      "outputs": [
        {
          "output_type": "stream",
          "name": "stdout",
          "text": [
            "Archive:  /content/drive/My Drive/CICIDS2017/MachineLearningCVE.zip\n",
            "   creating: MachineLearningCVE/\n",
            "  inflating: MachineLearningCVE/Wednesday-workingHours.pcap_ISCX.csv  \n",
            "  inflating: MachineLearningCVE/Tuesday-WorkingHours.pcap_ISCX.csv  \n",
            "  inflating: MachineLearningCVE/Thursday-WorkingHours-Morning-WebAttacks.pcap_ISCX.csv  \n",
            "  inflating: MachineLearningCVE/Thursday-WorkingHours-Afternoon-Infilteration.pcap_ISCX.csv  \n",
            "  inflating: MachineLearningCVE/Monday-WorkingHours.pcap_ISCX.csv  \n",
            "  inflating: MachineLearningCVE/Friday-WorkingHours-Morning.pcap_ISCX.csv  \n",
            "  inflating: MachineLearningCVE/Friday-WorkingHours-Afternoon-PortScan.pcap_ISCX.csv  \n",
            "  inflating: MachineLearningCVE/Friday-WorkingHours-Afternoon-DDos.pcap_ISCX.csv  \n"
          ]
        }
      ]
    },
    {
      "cell_type": "code",
      "source": [
        "import os\n",
        "import pandas as pd"
      ],
      "metadata": {
        "id": "Zoi3c41Qq_sp"
      },
      "execution_count": null,
      "outputs": []
    },
    {
      "cell_type": "code",
      "source": [
        "file_name = os.path.join(\"MachineLearningCVE\", \"Thursday-WorkingHours-Morning-WebAttacks.pcap_ISCX.csv\")\n",
        "\n",
        "# Read dataset\n",
        "df = pd.read_csv(file_name, skipinitialspace=True)"
      ],
      "metadata": {
        "id": "LHeZAUVlrDss"
      },
      "execution_count": null,
      "outputs": []
    },
    {
      "cell_type": "code",
      "source": [
        "def _renaming_class_label(df: pd.DataFrame):\n",
        "    labels = {\"Web Attack � Brute Force\": \"Web Attack-Brute Force\",\n",
        "              \"Web Attack � XSS\": \"Web Attack-XSS\",\n",
        "              \"Web Attack � Sql Injection\": \"Web Attack-Sql Injection\"}\n",
        "\n",
        "    for old_label, new_label in labels.items():\n",
        "        df.Label.replace(old_label, new_label, inplace=True)\n",
        "\n",
        "# Renaming labels\n",
        "_renaming_class_label(df)"
      ],
      "metadata": {
        "id": "MTqlJrTUruqU"
      },
      "execution_count": null,
      "outputs": []
    },
    {
      "cell_type": "code",
      "source": [
        "# Save to csv\n",
        "df.to_csv(file_name, index=False)"
      ],
      "metadata": {
        "id": "gXTosQKprzF4"
      },
      "execution_count": null,
      "outputs": []
    },
    {
      "cell_type": "code",
      "source": [
        "DIR_PATH = \"MachineLearningCVE\"\n",
        "\n",
        "FILE_NAMES = [\"Monday-WorkingHours.pcap_ISCX.csv\",\n",
        "              \"Tuesday-WorkingHours.pcap_ISCX.csv\",\n",
        "              \"Wednesday-workingHours.pcap_ISCX.csv\",\n",
        "              \"Thursday-WorkingHours-Morning-WebAttacks.pcap_ISCX.csv\",\n",
        "              \"Thursday-WorkingHours-Afternoon-Infilteration.pcap_ISCX.csv\",\n",
        "              \"Friday-WorkingHours-Morning.pcap_ISCX.csv\",\n",
        "              \"Friday-WorkingHours-Afternoon-PortScan.pcap_ISCX.csv\",\n",
        "              \"Friday-WorkingHours-Afternoon-DDos.pcap_ISCX.csv\"]"
      ],
      "metadata": {
        "id": "I8W4RZPLr5vJ"
      },
      "execution_count": null,
      "outputs": []
    },
    {
      "cell_type": "code",
      "source": [
        "df = [pd.read_csv(os.path.join(DIR_PATH, f), skipinitialspace=True) for f in FILE_NAMES]\n",
        "df = pd.concat(df, ignore_index=True)"
      ],
      "metadata": {
        "id": "DOzEKL-Br7I7"
      },
      "execution_count": null,
      "outputs": []
    },
    {
      "cell_type": "code",
      "source": [
        "df.Label.value_counts()"
      ],
      "metadata": {
        "colab": {
          "base_uri": "https://localhost:8080/"
        },
        "id": "oBsgSPsxsJdH",
        "outputId": "513b05ad-4bd7-4fab-f0d7-22deaac3ba5e"
      },
      "execution_count": null,
      "outputs": [
        {
          "output_type": "execute_result",
          "data": {
            "text/plain": [
              "Label\n",
              "BENIGN                      2273097\n",
              "DoS Hulk                     231073\n",
              "PortScan                     158930\n",
              "DDoS                         128027\n",
              "DoS GoldenEye                 10293\n",
              "FTP-Patator                    7938\n",
              "SSH-Patator                    5897\n",
              "DoS slowloris                  5796\n",
              "DoS Slowhttptest               5499\n",
              "Bot                            1966\n",
              "Web Attack-Brute Force         1507\n",
              "Web Attack-XSS                  652\n",
              "Infiltration                     36\n",
              "Web Attack-Sql Injection         21\n",
              "Heartbleed                       11\n",
              "Name: count, dtype: int64"
            ]
          },
          "metadata": {},
          "execution_count": 15
        }
      ]
    },
    {
      "cell_type": "code",
      "source": [
        "df.to_csv(os.path.join(DIR_PATH, \"MachineLearningCVE.csv\"), index=False)"
      ],
      "metadata": {
        "id": "9I4qz8UYsOaE"
      },
      "execution_count": null,
      "outputs": []
    },
    {
      "cell_type": "code",
      "source": [
        "!cp -r \"MachineLearningCVE/\" \"/content/drive/MyDrive/CICIDS2017/\""
      ],
      "metadata": {
        "id": "8zrZqddMsxxt"
      },
      "execution_count": null,
      "outputs": []
    },
    {
      "cell_type": "code",
      "source": [
        "import os\n",
        "import logging\n",
        "\n",
        "import pandas as pd\n",
        "import numpy as np\n",
        "\n",
        "from sklearn.preprocessing import LabelEncoder\n",
        "from sklearn.model_selection import train_test_split\n",
        "\n",
        "# Log setting\n",
        "logging.basicConfig(format=\"%(asctime)s %(levelname)s %(message)s\", datefmt=\"%H:%M:%S\", level=logging.INFO)\n",
        "\n",
        "# Change display.max_rows to show all features.\n",
        "pd.set_option(\"display.max_rows\", 85)"
      ],
      "metadata": {
        "id": "XWx4N_y8tWZs"
      },
      "execution_count": null,
      "outputs": []
    },
    {
      "cell_type": "code",
      "source": [
        "DIR_PATH = \"/content/drive/MyDrive/CICIDS2017/MachineLearningCVE\"\n",
        "PROCESSED_DIR_PATH = \"/content/drive/MyDrive/CICIDS2017/ProcessedDataset\"\n",
        "FILE_PATH = os.path.join(DIR_PATH, \"MachineLearningCVE.csv\")"
      ],
      "metadata": {
        "id": "B0eFfd-4tgEp"
      },
      "execution_count": null,
      "outputs": []
    },
    {
      "cell_type": "code",
      "source": [
        "def _label_encoding() -> LabelEncoder:\n",
        "    # Create Label Encoder\n",
        "    le = LabelEncoder()\n",
        "\n",
        "    # Read Label column from all dataset files\n",
        "    labels = pd.read_csv(FILE_PATH, usecols=['Label'], skipinitialspace=True)\n",
        "\n",
        "    # Fit the labels data to Label Encoder\n",
        "    le.fit(labels.Label)\n",
        "\n",
        "    # Saving the label encoder\n",
        "    np.save(os.path.join(PROCESSED_DIR_PATH, 'label_encoder.npy'), le.classes_)\n",
        "\n",
        "    # Log the result.\n",
        "    logging.info(\"Total rows: {}\".format(labels.shape))\n",
        "    logging.info(\"Class distribution:\\n{}\\n\".format(labels.Label.value_counts()))\n",
        "\n",
        "    return le\n",
        "\n",
        "\n",
        "\n",
        "def _process(df: pd.DataFrame, le: LabelEncoder) -> (np.ndarray, np.ndarray):\n",
        "    # Label encoding\n",
        "    df.Label = le.transform(df.Label)\n",
        "\n",
        "    # Fill NaN with average value of each class in this dataset\n",
        "    nan_rows = df[df.isna().any(axis=1)].shape[0]\n",
        "    logging.info(\"Fill NaN in {} rows with average value of each class.\".format(nan_rows))\n",
        "    df.iloc[:, df.columns != \"Label\"] = df.groupby(\"Label\").transform(lambda x: x.fillna(x.mean()))\n",
        "\n",
        "    # Change inf value with maximum value of each class\n",
        "    inf_rows = df[df.isin([np.inf]).any(axis=1)].shape[0]\n",
        "    logging.info(\"Replace Inf in {} rows with maximum value of each class.\".format(inf_rows))\n",
        "    # Temporary replace inf with NaN\n",
        "    df = df.replace([np.inf], np.nan)\n",
        "    # Replace inf with maximum value of each class in this dataset\n",
        "    df.iloc[:, df.columns != \"Label\"] = df.groupby(\"Label\").transform(lambda x: x.fillna(x.max()))\n",
        "\n",
        "    # Change negative value with minimum positive value of each class\n",
        "    logging.info(\"Replace negative values with minimum value of each class.\")\n",
        "    # Temporary replace negative value with NaN\n",
        "    df[df < 0] = np.nan\n",
        "    # Replace negative value with minimum value of each class in this dataset\n",
        "    df.iloc[:, df.columns != \"Label\"] = df.groupby(\"Label\").transform(lambda x: x.fillna(x.min()))\n",
        "\n",
        "    return df\n",
        "\n",
        "\n",
        "def _split_train_test(df: pd.DataFrame) -> (pd.DataFrame, pd.DataFrame):\n",
        "    # Sampling the dataset\n",
        "    x = df.iloc[:, df.columns != 'Label']\n",
        "    y = df[['Label']]\n",
        "\n",
        "    x_train, x_test, y_train, y_test = train_test_split(x, y, stratify=y, test_size=0.20,\n",
        "                                                        random_state=np.random.randint(10))\n",
        "\n",
        "    del x, y\n",
        "\n",
        "    train = pd.concat([x_train, y_train], axis=1, sort=False)\n",
        "    test = pd.concat([x_test, y_test], axis=1, sort=False)\n",
        "\n",
        "    return train, test\n",
        "\n",
        "\n",
        "def _to_csv(df: pd.DataFrame, saving_path: str):\n",
        "    # if file does not exist write header\n",
        "    if not os.path.isfile(saving_path):\n",
        "        df.to_csv(saving_path, index=False)\n",
        "    # else it exists so append without writing the header\n",
        "    else:\n",
        "        df.to_csv(saving_path, index=False, mode='a', header=False)\n",
        "\n",
        "\n",
        "def _preprocessing_all(le: LabelEncoder, chunksize=1000000):\n",
        "    # Preprocess all file\n",
        "    for chunk in pd.read_csv(FILE_PATH, skipinitialspace=True, chunksize=chunksize):\n",
        "        train, test = _split_train_test(_process(chunk, le))\n",
        "        _to_csv(train, os.path.join(PROCESSED_DIR_PATH, \"train_MachineLearningCVE.csv\"))\n",
        "        _to_csv(test, os.path.join(PROCESSED_DIR_PATH, \"test_MachineLearningCVE.csv\"))"
      ],
      "metadata": {
        "id": "avyk1rREtmcI"
      },
      "execution_count": null,
      "outputs": []
    },
    {
      "cell_type": "code",
      "source": [
        "label_encoder = _label_encoding()"
      ],
      "metadata": {
        "id": "gn4gsLnttxon"
      },
      "execution_count": null,
      "outputs": []
    },
    {
      "cell_type": "code",
      "source": [
        "_preprocessing_all(label_encoder, 2500000)"
      ],
      "metadata": {
        "id": "dOmiIUFjzbPY"
      },
      "execution_count": null,
      "outputs": []
    },
    {
      "cell_type": "code",
      "source": [
        "logging.info(\"*** END ***\")\n"
      ],
      "metadata": {
        "id": "XHt6cZc50rMl"
      },
      "execution_count": null,
      "outputs": []
    },
    {
      "cell_type": "code",
      "source": [
        "import os\n",
        "import logging\n",
        "\n",
        "import pandas as pd\n",
        "import tensorflow.keras as keras\n",
        "\n",
        "from tensorflow.keras.callbacks import ModelCheckpoint\n",
        "from tensorflow.keras.utils import plot_model\n",
        "\n",
        "# Log setting\n",
        "logging.basicConfig(format=\"%(asctime)s %(levelname)s %(message)s\", datefmt=\"%H:%M:%S\", level=logging.INFO)\n",
        "\n",
        "# Change display.max_rows to show all features.\n",
        "pd.set_option(\"display.max_rows\", 85)"
      ],
      "metadata": {
        "id": "cBzTVuho1Ma5"
      },
      "execution_count": null,
      "outputs": []
    },
    {
      "cell_type": "code",
      "source": [
        "PROCESSED_DIR_PATH = \"/content/drive/MyDrive/CICIDS2017/ProcessedDataset\"\n",
        "MODEL_DIR_PATH = \"/content/drive/MyDrive/CICIDS2017/Model\""
      ],
      "metadata": {
        "id": "01JVKkkr1SQQ"
      },
      "execution_count": null,
      "outputs": []
    },
    {
      "cell_type": "code",
      "source": [
        "import numpy as np\n",
        "import tensorflow as tf\n",
        "import matplotlib.pyplot as plt\n",
        "\n",
        "from sklearn.metrics import classification_report\n",
        "from sklearn.preprocessing import MinMaxScaler\n",
        "\n",
        "\n",
        "def preprocessing(df: pd.DataFrame) -> (np.ndarray, np.ndarray):\n",
        "    # Shuffle the dataset\n",
        "    df = df.sample(frac=1)\n",
        "\n",
        "    # Split features and labels\n",
        "    x = df.iloc[:, df.columns != 'Label']\n",
        "    y = df[['Label']].to_numpy()\n",
        "\n",
        "    # Scale the features between 0 ~ 1\n",
        "    scaler = MinMaxScaler()\n",
        "    x = scaler.fit_transform(x)\n",
        "\n",
        "    return x, y\n",
        "\n",
        "\n",
        "def reshape_dataset_cnn(x: np.ndarray) -> np.ndarray:\n",
        "    # Add padding columns\n",
        "    result = np.zeros((x.shape[0], 81))\n",
        "    result[:, :-3] = x\n",
        "\n",
        "    # Reshaping dataset\n",
        "    result = np.reshape(result, (result.shape[0], 9, 9))\n",
        "    result = result[..., tf.newaxis]\n",
        "    return result\n",
        "\n",
        "\n",
        "def plot_history(history: tf.keras.callbacks.History):\n",
        "    # summarize history for accuracy\n",
        "    plt.plot(history.history['sparse_categorical_accuracy'])\n",
        "    plt.plot(history.history['val_sparse_categorical_accuracy'])\n",
        "    plt.title('model2 accuracy')\n",
        "    plt.ylabel('accuracy')\n",
        "    plt.xlabel('epoch')\n",
        "    plt.legend(['train', 'test'], loc='upper left')\n",
        "    plt.show()\n",
        "\n",
        "    # summarize history for loss\n",
        "    plt.plot(history.history['loss'])\n",
        "    plt.plot(history.history['val_loss'])\n",
        "    plt.title('model2 loss')\n",
        "    plt.ylabel('loss')\n",
        "    plt.xlabel('epoch')\n",
        "    plt.legend(['train', 'test'], loc='upper left')\n",
        "    plt.show()\n",
        "\n",
        "\n",
        "def evaluation(model: keras.Model, x_test: np.ndarray, y_test: np.ndarray):\n",
        "    score = model.evaluate(x_test, y_test, verbose=False)\n",
        "    logging.info('Evaluation:\\nLoss: {} \\nAccuracy : {}\\n'.format(score[0], score[1]))\n",
        "\n",
        "    # F1 score\n",
        "    y_pred = model.predict(x_test, batch_size=1024, verbose=False)\n",
        "    #y_pred = np.argmax(y_pred, axis=1)\n",
        "\n",
        "    y_pred_classes = np.argmax(y_pred, axis=1)\n",
        "    y_true = np.argmax(y_test, axis=1)\n",
        "\n",
        "# 분류 보고서 생성\n",
        "    report = classification_report(y_true, y_pred_classes, zero_division=0)\n",
        "    print(report)\n",
        "\n",
        " #   logging.info(\"\\n{}\".format(classification_report(y_test, y_pred, zero_division=0)))"
      ],
      "metadata": {
        "id": "fFzAaLt21YGj"
      },
      "execution_count": null,
      "outputs": []
    },
    {
      "cell_type": "code",
      "source": [
        "def create_cnn_model() -> keras.Model:\n",
        "    # Creating layers\n",
        "    inputs = keras.layers.Input(shape=(9, 9, 1))\n",
        "    x = keras.layers.Conv2D(120, 2, activation='relu', padding=\"same\")(inputs)\n",
        "    x = keras.layers.Conv2D(60, 3, activation='relu', padding=\"same\")(x)\n",
        "    x = keras.layers.Conv2D(30, 4, activation='relu', padding=\"same\")(x)\n",
        "    x = keras.layers.Flatten()(x)\n",
        "    outputs = keras.layers.Dense(15, activation='softmax')(x)\n",
        "    cnn_model = keras.Model(inputs=inputs, outputs=outputs, name='cnn')\n",
        "\n",
        "    # Compile layers\n",
        "    cnn_model.compile(loss='sparse_categorical_crossentropy',\n",
        "                      metrics=['sparse_categorical_accuracy'],\n",
        "                      optimizer='adam')\n",
        "\n",
        "    return cnn_model"
      ],
      "metadata": {
        "id": "5o9g8EeY1cHa"
      },
      "execution_count": null,
      "outputs": []
    },
    {
      "cell_type": "code",
      "source": [
        "# Create model\n",
        "model = create_cnn_model()\n",
        "logging.info(model.summary())"
      ],
      "metadata": {
        "colab": {
          "base_uri": "https://localhost:8080/"
        },
        "id": "L6GmgEjx1egG",
        "outputId": "06cd7695-379c-4c38-8ae7-7456d01d7144"
      },
      "execution_count": null,
      "outputs": [
        {
          "output_type": "stream",
          "name": "stdout",
          "text": [
            "Model: \"cnn\"\n",
            "_________________________________________________________________\n",
            " Layer (type)                Output Shape              Param #   \n",
            "=================================================================\n",
            " input_1 (InputLayer)        [(None, 9, 9, 1)]         0         \n",
            "                                                                 \n",
            " conv2d (Conv2D)             (None, 9, 9, 120)         600       \n",
            "                                                                 \n",
            " conv2d_1 (Conv2D)           (None, 9, 9, 60)          64860     \n",
            "                                                                 \n",
            " conv2d_2 (Conv2D)           (None, 9, 9, 30)          28830     \n",
            "                                                                 \n",
            " flatten (Flatten)           (None, 2430)              0         \n",
            "                                                                 \n",
            " dense (Dense)               (None, 15)                36465     \n",
            "                                                                 \n",
            "=================================================================\n",
            "Total params: 130755 (510.76 KB)\n",
            "Trainable params: 130755 (510.76 KB)\n",
            "Non-trainable params: 0 (0.00 Byte)\n",
            "_________________________________________________________________\n"
          ]
        }
      ]
    },
    {
      "cell_type": "code",
      "source": [
        "!pip install pydot\n",
        "!pip install graphviz"
      ],
      "metadata": {
        "colab": {
          "base_uri": "https://localhost:8080/"
        },
        "id": "Lr-rheFNkFQ8",
        "outputId": "82f328ab-9309-4f9a-8fc2-a60d4f6d91df"
      },
      "execution_count": null,
      "outputs": [
        {
          "output_type": "stream",
          "name": "stdout",
          "text": [
            "Collecting pydot\n",
            "  Downloading pydot-3.0.1-py3-none-any.whl.metadata (9.9 kB)\n",
            "Requirement already satisfied: pyparsing>=3.0.9 in /usr/local/lib/python3.10/dist-packages (from pydot) (3.1.2)\n",
            "Downloading pydot-3.0.1-py3-none-any.whl (22 kB)\n",
            "Installing collected packages: pydot\n",
            "Successfully installed pydot-3.0.1\n",
            "Collecting graphviz\n",
            "  Downloading graphviz-0.20.3-py3-none-any.whl.metadata (12 kB)\n",
            "Downloading graphviz-0.20.3-py3-none-any.whl (47 kB)\n",
            "\u001b[2K   \u001b[90m━━━━━━━━━━━━━━━━━━━━━━━━━━━━━━━━━━━━━━━━\u001b[0m \u001b[32m47.1/47.1 kB\u001b[0m \u001b[31m760.2 kB/s\u001b[0m eta \u001b[36m0:00:00\u001b[0m\n",
            "\u001b[?25hInstalling collected packages: graphviz\n",
            "Successfully installed graphviz-0.20.3\n"
          ]
        }
      ]
    },
    {
      "cell_type": "code",
      "source": [
        "plot_model(model, show_shapes=True)\n"
      ],
      "metadata": {
        "colab": {
          "base_uri": "https://localhost:8080/"
        },
        "id": "ozOdPOho1lgI",
        "outputId": "e53509d6-4354-42f3-fac5-0127ffba5460"
      },
      "execution_count": null,
      "outputs": [
        {
          "output_type": "stream",
          "name": "stdout",
          "text": [
            "You must install pydot (`pip install pydot`) and install graphviz (see instructions at https://graphviz.gitlab.io/download/) for plot_model to work.\n"
          ]
        }
      ]
    },
    {
      "cell_type": "code",
      "source": [
        "# Checkpoint\n",
        "cp_path = os.path.join(MODEL_DIR_PATH, \"5_2_cnn_weights-improvement-{epoch:02d}-{val_sparse_categorical_accuracy:.2f}.hdf5\")\n",
        "checkpoint = ModelCheckpoint(cp_path, monitor='val_sparse_categorical_accuracy', verbose=1,\n",
        "                             save_best_only=True, mode='max')\n",
        "callbacks_list = [checkpoint]\n",
        "\n",
        "# Training\n",
        "df = pd.read_csv(os.path.join(PROCESSED_DIR_PATH, 'train_MachineLearningCVE.csv'), skipinitialspace=True)\n",
        "logging.info(\"Class distribution\\n{}\".format(df.Label.value_counts()))"
      ],
      "metadata": {
        "id": "7zZy2TNe1tK6"
      },
      "execution_count": null,
      "outputs": []
    },
    {
      "cell_type": "markdown",
      "source": [
        "# 새 섹션"
      ],
      "metadata": {
        "id": "ctTUYsvcZyXh"
      }
    },
    {
      "cell_type": "code",
      "source": [
        "X, Y = preprocessing(df)\n",
        "del df\n",
        "X = reshape_dataset_cnn(X)"
      ],
      "metadata": {
        "id": "ZZWyEApf2EqG"
      },
      "execution_count": null,
      "outputs": []
    },
    {
      "cell_type": "code",
      "source": [
        "# Training\n",
        "logging.info(\"*** TRAINING START ***\")\n",
        "history = model.fit(X, Y, validation_split=0.1, epochs=10, batch_size=1024, verbose=True)"
      ],
      "metadata": {
        "colab": {
          "base_uri": "https://localhost:8080/"
        },
        "id": "BeGvQFmH2NDv",
        "outputId": "27b0fe4d-2b0d-4936-a9d8-d68f435288bb"
      },
      "execution_count": null,
      "outputs": [
        {
          "output_type": "stream",
          "name": "stdout",
          "text": [
            "Epoch 1/10\n",
            "1991/1991 [==============================] - 226s 113ms/step - loss: 0.1232 - sparse_categorical_accuracy: 0.9571 - val_loss: 0.0690 - val_sparse_categorical_accuracy: 0.9737\n",
            "Epoch 2/10\n",
            "1991/1991 [==============================] - 225s 113ms/step - loss: 0.0459 - sparse_categorical_accuracy: 0.9826 - val_loss: 0.0349 - val_sparse_categorical_accuracy: 0.9882\n",
            "Epoch 3/10\n",
            "1991/1991 [==============================] - 223s 112ms/step - loss: 0.0311 - sparse_categorical_accuracy: 0.9883 - val_loss: 0.0285 - val_sparse_categorical_accuracy: 0.9888\n",
            "Epoch 4/10\n",
            "1991/1991 [==============================] - 222s 111ms/step - loss: 0.0201 - sparse_categorical_accuracy: 0.9942 - val_loss: 0.0142 - val_sparse_categorical_accuracy: 0.9972\n",
            "Epoch 5/10\n",
            "1991/1991 [==============================] - 221s 111ms/step - loss: 0.0112 - sparse_categorical_accuracy: 0.9976 - val_loss: 0.0104 - val_sparse_categorical_accuracy: 0.9983\n",
            "Epoch 6/10\n",
            "1991/1991 [==============================] - 223s 112ms/step - loss: 0.0089 - sparse_categorical_accuracy: 0.9980 - val_loss: 0.0093 - val_sparse_categorical_accuracy: 0.9983\n",
            "Epoch 7/10\n",
            "1991/1991 [==============================] - 224s 113ms/step - loss: 0.0079 - sparse_categorical_accuracy: 0.9981 - val_loss: 0.0082 - val_sparse_categorical_accuracy: 0.9978\n",
            "Epoch 8/10\n",
            "1991/1991 [==============================] - 221s 111ms/step - loss: 0.0072 - sparse_categorical_accuracy: 0.9983 - val_loss: 0.0081 - val_sparse_categorical_accuracy: 0.9977\n",
            "Epoch 9/10\n",
            "1991/1991 [==============================] - 224s 112ms/step - loss: 0.0068 - sparse_categorical_accuracy: 0.9983 - val_loss: 0.0066 - val_sparse_categorical_accuracy: 0.9984\n",
            "Epoch 10/10\n",
            "1991/1991 [==============================] - 223s 112ms/step - loss: 0.0062 - sparse_categorical_accuracy: 0.9984 - val_loss: 0.0071 - val_sparse_categorical_accuracy: 0.9982\n"
          ]
        }
      ]
    },
    {
      "cell_type": "code",
      "source": [
        "\n",
        "logging.info(\"*** TRAINING FINISH ***\")\n",
        "del X, Y"
      ],
      "metadata": {
        "id": "dBTir12yP7lV"
      },
      "execution_count": null,
      "outputs": []
    },
    {
      "cell_type": "code",
      "source": [
        "# Save the model\n",
        "model.save(os.path.join(MODEL_DIR_PATH, \"06_cnn.h5\"))\n",
        "\n",
        "plot_history(history)"
      ],
      "metadata": {
        "colab": {
          "base_uri": "https://localhost:8080/",
          "height": 984
        },
        "id": "KGHA7UXFcvoT",
        "outputId": "fd0555eb-8d0d-4f4c-c1c4-f5cafb852cfc"
      },
      "execution_count": null,
      "outputs": [
        {
          "output_type": "stream",
          "name": "stderr",
          "text": [
            "/usr/local/lib/python3.10/dist-packages/keras/src/engine/training.py:3103: UserWarning: You are saving your model as an HDF5 file via `model.save()`. This file format is considered legacy. We recommend using instead the native Keras format, e.g. `model.save('my_model.keras')`.\n",
            "  saving_api.save_model(\n"
          ]
        },
        {
          "output_type": "display_data",
          "data": {
            "text/plain": [
              "<Figure size 640x480 with 1 Axes>"
            ],
            "image/png": "[encoded data removed]"
          },
          "metadata": {}
        },
        {
          "output_type": "display_data",
          "data": {
            "text/plain": [
              "<Figure size 640x480 with 1 Axes>"
            ],
            "image/png": "[encoded data removed]"
          },
          "metadata": {}
        }
      ]
    },
    {
      "cell_type": "code",
      "source": [
        "# Evaluation\n",
        "df = pd.read_csv(os.path.join(PROCESSED_DIR_PATH, 'test_MachineLearningCVE.csv'), skipinitialspace=True)\n",
        "logging.info(\"Class distribution\\n{}\".format(df.Label.value_counts()))"
      ],
      "metadata": {
        "id": "2iuf_mfEc5WF"
      },
      "execution_count": null,
      "outputs": []
    },
    {
      "cell_type": "code",
      "source": [
        "X, Y = preprocessing(df)\n",
        "del df\n",
        "X = reshape_dataset_cnn(X)"
      ],
      "metadata": {
        "id": "PZZP3wBNdEX5"
      },
      "execution_count": null,
      "outputs": []
    },
    {
      "cell_type": "code",
      "source": [
        "evaluation(model, X, Y)\n",
        "del X, Y"
      ],
      "metadata": {
        "colab": {
          "base_uri": "https://localhost:8080/"
        },
        "id": "kc5r0nZrdJLB",
        "outputId": "cab733b7-c4e0-4e3b-8506-595887d7b2ac"
      },
      "execution_count": null,
      "outputs": [
        {
          "output_type": "stream",
          "name": "stdout",
          "text": [
            "              precision    recall  f1-score   support\n",
            "\n",
            "           0       1.00      0.80      0.89    566149\n",
            "           1       0.00      0.00      0.00         0\n",
            "           2       0.00      0.00      0.00         0\n",
            "           3       0.00      0.00      0.00         0\n",
            "           4       0.00      0.00      0.00         0\n",
            "           5       0.00      0.00      0.00         0\n",
            "           6       0.00      0.00      0.00         0\n",
            "           7       0.00      0.00      0.00         0\n",
            "           8       0.00      0.00      0.00         0\n",
            "           9       0.00      0.00      0.00         0\n",
            "          10       0.00      0.00      0.00         0\n",
            "          11       0.00      0.00      0.00         0\n",
            "          12       0.00      0.00      0.00         0\n",
            "          14       0.00      0.00      0.00         0\n",
            "\n",
            "    accuracy                           0.80    566149\n",
            "   macro avg       0.07      0.06      0.06    566149\n",
            "weighted avg       1.00      0.80      0.89    566149\n",
            "\n"
          ]
        }
      ]
    }
  ]
}